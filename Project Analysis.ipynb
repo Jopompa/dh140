{
 "cells": [
  {
   "cell_type": "markdown",
   "id": "fc28bc00-5a4f-4684-af48-40dcdf0fce5d",
   "metadata": {},
   "source": [
    "# Project Assignment #2"
   ]
  },
  {
   "cell_type": "markdown",
   "id": "d97ccf55-200e-4aa9-ac3f-b40f2abb908a",
   "metadata": {},
   "source": [
    "### Introduction"
   ]
  },
  {
   "cell_type": "markdown",
   "id": "0cd1b1e9-9b33-4236-b9e8-63829fc9a144",
   "metadata": {},
   "source": [
    "For my project I would like to look into NFT'S. More specifically, I would like to look into which NFT's are the most popular, largest in value, and owned by the most people. An NFT, short for non-fungible token is a unique and non-interchangeable unit of data that is stored on a digital ledger otherwise known as a blockchain. NFT's can consist of virtually anything such as ideas, physical properties, intellectual property and many other things. The first NFT was created back in 2014, however in 2021 there was a massive boom in the amount of people who started purchasing NFT's and the amount of content creators that began to create their own NFT's, due to the rise in popularty of cryptocurrency. For many buyers now NFT's are a form of investment while also an entryway into the growing digital world."
   ]
  },
  {
   "cell_type": "markdown",
   "id": "eb0b9f42-3933-4816-8c7d-7823e124056b",
   "metadata": {},
   "source": [
    "As of now I have two data sources that I plan on using which I found on kaggle. One has a dataset of 7 million transactions of non-fungible tokens (NFTs) on the Ethereum blockchain. The dataset covers April to late September 2021, spans 9,000 NFT projects, and records each transaction’s sender, receiver, value, timestamp, and location in the blockchain. The second dataset which I will be analyzing in this notebook contains 250 NFT collections and their all time statistics such as sales, transactions, ownership and buyers."
   ]
  },
  {
   "cell_type": "markdown",
   "id": "74d40fce-e3d1-451e-86fd-7878801e491a",
   "metadata": {},
   "source": [
    "### Introduction to the Data"
   ]
  },
  {
   "cell_type": "code",
   "execution_count": 78,
   "id": "c3703e79-0cee-4604-a502-92a4ff737299",
   "metadata": {},
   "outputs": [],
   "source": [
    "import pandas as pd\n",
    "import matplotlib.pyplot as plt"
   ]
  },
  {
   "cell_type": "code",
   "execution_count": 79,
   "id": "29771c69-b990-4bbe-bdc9-884adcfae407",
   "metadata": {},
   "outputs": [],
   "source": [
    "df = pd.read_csv('nft_sales.csv')"
   ]
  },
  {
   "cell_type": "code",
   "execution_count": 80,
   "id": "056e6280-e8d9-4926-b7c4-8ef4d86ffe6f",
   "metadata": {},
   "outputs": [
    {
     "data": {
      "text/html": [
       "<div>\n",
       "<style scoped>\n",
       "    .dataframe tbody tr th:only-of-type {\n",
       "        vertical-align: middle;\n",
       "    }\n",
       "\n",
       "    .dataframe tbody tr th {\n",
       "        vertical-align: top;\n",
       "    }\n",
       "\n",
       "    .dataframe thead th {\n",
       "        text-align: right;\n",
       "    }\n",
       "</style>\n",
       "<table border=\"1\" class=\"dataframe\">\n",
       "  <thead>\n",
       "    <tr style=\"text-align: right;\">\n",
       "      <th></th>\n",
       "      <th>Collections</th>\n",
       "      <th>Sales</th>\n",
       "      <th>Buyers</th>\n",
       "      <th>Txns</th>\n",
       "      <th>Owners</th>\n",
       "    </tr>\n",
       "  </thead>\n",
       "  <tbody>\n",
       "    <tr>\n",
       "      <th>0</th>\n",
       "      <td>Axie Infinity</td>\n",
       "      <td>$3,328,148,500</td>\n",
       "      <td>1,079,811</td>\n",
       "      <td>9,755,511</td>\n",
       "      <td>2,656,431</td>\n",
       "    </tr>\n",
       "    <tr>\n",
       "      <th>1</th>\n",
       "      <td>CryptoPunks</td>\n",
       "      <td>$1,664,246,968</td>\n",
       "      <td>4,723</td>\n",
       "      <td>18,961</td>\n",
       "      <td>3,289</td>\n",
       "    </tr>\n",
       "    <tr>\n",
       "      <th>2</th>\n",
       "      <td>Art Blocks</td>\n",
       "      <td>$1,075,223,906</td>\n",
       "      <td>20,934</td>\n",
       "      <td>117,602</td>\n",
       "      <td>25,094</td>\n",
       "    </tr>\n",
       "    <tr>\n",
       "      <th>3</th>\n",
       "      <td>Bored Ape Yacht Club</td>\n",
       "      <td>$783,882,186</td>\n",
       "      <td>8,284</td>\n",
       "      <td>22,584</td>\n",
       "      <td>5,862</td>\n",
       "    </tr>\n",
       "    <tr>\n",
       "      <th>4</th>\n",
       "      <td>NBA Top Shot</td>\n",
       "      <td>$781,965,423</td>\n",
       "      <td>374,818</td>\n",
       "      <td>11,790,699</td>\n",
       "      <td>603,928</td>\n",
       "    </tr>\n",
       "    <tr>\n",
       "      <th>...</th>\n",
       "      <td>...</td>\n",
       "      <td>...</td>\n",
       "      <td>...</td>\n",
       "      <td>...</td>\n",
       "      <td>...</td>\n",
       "    </tr>\n",
       "    <tr>\n",
       "      <th>245</th>\n",
       "      <td>Evolution</td>\n",
       "      <td>$2,536,468</td>\n",
       "      <td>746</td>\n",
       "      <td>4,961</td>\n",
       "      <td>2,061</td>\n",
       "    </tr>\n",
       "    <tr>\n",
       "      <th>246</th>\n",
       "      <td>LegionPunks</td>\n",
       "      <td>$2,535,490</td>\n",
       "      <td>1,702</td>\n",
       "      <td>3,794</td>\n",
       "      <td>2,410</td>\n",
       "    </tr>\n",
       "    <tr>\n",
       "      <th>247</th>\n",
       "      <td>BabyApes</td>\n",
       "      <td>$2,521,714</td>\n",
       "      <td>1,671</td>\n",
       "      <td>3,405</td>\n",
       "      <td>2,785</td>\n",
       "    </tr>\n",
       "    <tr>\n",
       "      <th>248</th>\n",
       "      <td>Train of the Century</td>\n",
       "      <td>$2,504,080</td>\n",
       "      <td>3,139</td>\n",
       "      <td>39,460</td>\n",
       "      <td>3,160</td>\n",
       "    </tr>\n",
       "    <tr>\n",
       "      <th>249</th>\n",
       "      <td>Cyber Pharmacist</td>\n",
       "      <td>$2,498,805</td>\n",
       "      <td>3,206</td>\n",
       "      <td>8,452</td>\n",
       "      <td>3,689</td>\n",
       "    </tr>\n",
       "  </tbody>\n",
       "</table>\n",
       "<p>250 rows × 5 columns</p>\n",
       "</div>"
      ],
      "text/plain": [
       "              Collections           Sales     Buyers        Txns     Owners\n",
       "0           Axie Infinity  $3,328,148,500  1,079,811   9,755,511  2,656,431\n",
       "1             CryptoPunks  $1,664,246,968      4,723      18,961      3,289\n",
       "2              Art Blocks  $1,075,223,906     20,934     117,602     25,094\n",
       "3    Bored Ape Yacht Club    $783,882,186      8,284      22,584      5,862\n",
       "4            NBA Top Shot    $781,965,423    374,818  11,790,699    603,928\n",
       "..                    ...             ...        ...         ...        ...\n",
       "245             Evolution      $2,536,468        746       4,961      2,061\n",
       "246           LegionPunks      $2,535,490      1,702       3,794      2,410\n",
       "247              BabyApes      $2,521,714      1,671       3,405      2,785\n",
       "248  Train of the Century      $2,504,080      3,139      39,460      3,160\n",
       "249      Cyber Pharmacist      $2,498,805      3,206       8,452      3,689\n",
       "\n",
       "[250 rows x 5 columns]"
      ]
     },
     "execution_count": 80,
     "metadata": {},
     "output_type": "execute_result"
    }
   ],
   "source": [
    "df"
   ]
  },
  {
   "cell_type": "code",
   "execution_count": 81,
   "id": "a24cf1b0-43fe-450c-8d02-00561636e2ff",
   "metadata": {},
   "outputs": [
    {
     "data": {
      "text/html": [
       "<div>\n",
       "<style scoped>\n",
       "    .dataframe tbody tr th:only-of-type {\n",
       "        vertical-align: middle;\n",
       "    }\n",
       "\n",
       "    .dataframe tbody tr th {\n",
       "        vertical-align: top;\n",
       "    }\n",
       "\n",
       "    .dataframe thead th {\n",
       "        text-align: right;\n",
       "    }\n",
       "</style>\n",
       "<table border=\"1\" class=\"dataframe\">\n",
       "  <thead>\n",
       "    <tr style=\"text-align: right;\">\n",
       "      <th></th>\n",
       "      <th>Collections</th>\n",
       "      <th>Sales</th>\n",
       "      <th>Buyers</th>\n",
       "      <th>Txns</th>\n",
       "      <th>Owners</th>\n",
       "    </tr>\n",
       "  </thead>\n",
       "  <tbody>\n",
       "    <tr>\n",
       "      <th>count</th>\n",
       "      <td>250</td>\n",
       "      <td>250</td>\n",
       "      <td>250</td>\n",
       "      <td>250</td>\n",
       "      <td>244</td>\n",
       "    </tr>\n",
       "    <tr>\n",
       "      <th>unique</th>\n",
       "      <td>250</td>\n",
       "      <td>250</td>\n",
       "      <td>246</td>\n",
       "      <td>249</td>\n",
       "      <td>235</td>\n",
       "    </tr>\n",
       "    <tr>\n",
       "      <th>top</th>\n",
       "      <td>Axie Infinity</td>\n",
       "      <td>$3,328,148,500</td>\n",
       "      <td>3,246</td>\n",
       "      <td>4,523</td>\n",
       "      <td>1</td>\n",
       "    </tr>\n",
       "    <tr>\n",
       "      <th>freq</th>\n",
       "      <td>1</td>\n",
       "      <td>1</td>\n",
       "      <td>2</td>\n",
       "      <td>2</td>\n",
       "      <td>5</td>\n",
       "    </tr>\n",
       "  </tbody>\n",
       "</table>\n",
       "</div>"
      ],
      "text/plain": [
       "          Collections           Sales Buyers   Txns Owners\n",
       "count             250             250    250    250    244\n",
       "unique            250             250    246    249    235\n",
       "top     Axie Infinity  $3,328,148,500  3,246  4,523      1\n",
       "freq                1               1      2      2      5"
      ]
     },
     "execution_count": 81,
     "metadata": {},
     "output_type": "execute_result"
    }
   ],
   "source": [
    "df.describe()"
   ]
  },
  {
   "cell_type": "code",
   "execution_count": 82,
   "id": "44960996-5d0c-4147-872e-a9abfade4283",
   "metadata": {},
   "outputs": [
    {
     "name": "stdout",
     "output_type": "stream",
     "text": [
      "<class 'pandas.core.frame.DataFrame'>\n",
      "RangeIndex: 250 entries, 0 to 249\n",
      "Data columns (total 5 columns):\n",
      " #   Column       Non-Null Count  Dtype \n",
      "---  ------       --------------  ----- \n",
      " 0   Collections  250 non-null    object\n",
      " 1   Sales        250 non-null    object\n",
      " 2   Buyers       250 non-null    object\n",
      " 3   Txns         250 non-null    object\n",
      " 4   Owners       244 non-null    object\n",
      "dtypes: object(5)\n",
      "memory usage: 9.9+ KB\n"
     ]
    }
   ],
   "source": [
    "# WHy are all the columns objects?\n",
    "df.info()"
   ]
  },
  {
   "cell_type": "code",
   "execution_count": 83,
   "id": "a46995a7-30e2-4ff1-ab15-bc489bec59e4",
   "metadata": {},
   "outputs": [
    {
     "name": "stderr",
     "output_type": "stream",
     "text": [
      "/tmp/ipykernel_50/4239910403.py:4: FutureWarning: The default value of regex will change from True to False in a future version. In addition, single character regular expressions will *not* be treated as literal strings when regex=True.\n",
      "  df['Sales in USD'] = df['Sales in USD'].str.replace('$', '')\n"
     ]
    },
    {
     "data": {
      "text/html": [
       "<div>\n",
       "<style scoped>\n",
       "    .dataframe tbody tr th:only-of-type {\n",
       "        vertical-align: middle;\n",
       "    }\n",
       "\n",
       "    .dataframe tbody tr th {\n",
       "        vertical-align: top;\n",
       "    }\n",
       "\n",
       "    .dataframe thead th {\n",
       "        text-align: right;\n",
       "    }\n",
       "</style>\n",
       "<table border=\"1\" class=\"dataframe\">\n",
       "  <thead>\n",
       "    <tr style=\"text-align: right;\">\n",
       "      <th></th>\n",
       "      <th>Collections</th>\n",
       "      <th>Sales in USD</th>\n",
       "      <th>Buyers</th>\n",
       "      <th>Transactions</th>\n",
       "      <th>Owners</th>\n",
       "    </tr>\n",
       "  </thead>\n",
       "  <tbody>\n",
       "    <tr>\n",
       "      <th>0</th>\n",
       "      <td>Axie Infinity</td>\n",
       "      <td>3328148500</td>\n",
       "      <td>1079811</td>\n",
       "      <td>9755511</td>\n",
       "      <td>2656431</td>\n",
       "    </tr>\n",
       "    <tr>\n",
       "      <th>1</th>\n",
       "      <td>CryptoPunks</td>\n",
       "      <td>1664246968</td>\n",
       "      <td>4723</td>\n",
       "      <td>18961</td>\n",
       "      <td>3289</td>\n",
       "    </tr>\n",
       "    <tr>\n",
       "      <th>2</th>\n",
       "      <td>Art Blocks</td>\n",
       "      <td>1075223906</td>\n",
       "      <td>20934</td>\n",
       "      <td>117602</td>\n",
       "      <td>25094</td>\n",
       "    </tr>\n",
       "    <tr>\n",
       "      <th>3</th>\n",
       "      <td>Bored Ape Yacht Club</td>\n",
       "      <td>783882186</td>\n",
       "      <td>8284</td>\n",
       "      <td>22584</td>\n",
       "      <td>5862</td>\n",
       "    </tr>\n",
       "    <tr>\n",
       "      <th>4</th>\n",
       "      <td>NBA Top Shot</td>\n",
       "      <td>781965423</td>\n",
       "      <td>374818</td>\n",
       "      <td>11790699</td>\n",
       "      <td>603928</td>\n",
       "    </tr>\n",
       "    <tr>\n",
       "      <th>...</th>\n",
       "      <td>...</td>\n",
       "      <td>...</td>\n",
       "      <td>...</td>\n",
       "      <td>...</td>\n",
       "      <td>...</td>\n",
       "    </tr>\n",
       "    <tr>\n",
       "      <th>245</th>\n",
       "      <td>Evolution</td>\n",
       "      <td>2536468</td>\n",
       "      <td>746</td>\n",
       "      <td>4961</td>\n",
       "      <td>2061</td>\n",
       "    </tr>\n",
       "    <tr>\n",
       "      <th>246</th>\n",
       "      <td>LegionPunks</td>\n",
       "      <td>2535490</td>\n",
       "      <td>1702</td>\n",
       "      <td>3794</td>\n",
       "      <td>2410</td>\n",
       "    </tr>\n",
       "    <tr>\n",
       "      <th>247</th>\n",
       "      <td>BabyApes</td>\n",
       "      <td>2521714</td>\n",
       "      <td>1671</td>\n",
       "      <td>3405</td>\n",
       "      <td>2785</td>\n",
       "    </tr>\n",
       "    <tr>\n",
       "      <th>248</th>\n",
       "      <td>Train of the Century</td>\n",
       "      <td>2504080</td>\n",
       "      <td>3139</td>\n",
       "      <td>39460</td>\n",
       "      <td>3160</td>\n",
       "    </tr>\n",
       "    <tr>\n",
       "      <th>249</th>\n",
       "      <td>Cyber Pharmacist</td>\n",
       "      <td>2498805</td>\n",
       "      <td>3206</td>\n",
       "      <td>8452</td>\n",
       "      <td>3689</td>\n",
       "    </tr>\n",
       "  </tbody>\n",
       "</table>\n",
       "<p>244 rows × 5 columns</p>\n",
       "</div>"
      ],
      "text/plain": [
       "              Collections Sales in USD   Buyers Transactions   Owners\n",
       "0           Axie Infinity   3328148500  1079811      9755511  2656431\n",
       "1             CryptoPunks   1664246968     4723        18961     3289\n",
       "2              Art Blocks   1075223906    20934       117602    25094\n",
       "3    Bored Ape Yacht Club    783882186     8284        22584     5862\n",
       "4            NBA Top Shot    781965423   374818     11790699   603928\n",
       "..                    ...          ...      ...          ...      ...\n",
       "245             Evolution      2536468      746         4961     2061\n",
       "246           LegionPunks      2535490     1702         3794     2410\n",
       "247              BabyApes      2521714     1671         3405     2785\n",
       "248  Train of the Century      2504080     3139        39460     3160\n",
       "249      Cyber Pharmacist      2498805     3206         8452     3689\n",
       "\n",
       "[244 rows x 5 columns]"
      ]
     },
     "execution_count": 83,
     "metadata": {},
     "output_type": "execute_result"
    }
   ],
   "source": [
    "# Cleaning the dataset so that cells are properly read\n",
    "df.rename(columns = {'Sales':'Sales in USD','Txns':'Transactions'}, inplace = True)\n",
    "df['Sales in USD'] = df['Sales in USD'].str.replace(',', '')\n",
    "df['Sales in USD'] = df['Sales in USD'].str.replace('$', '')\n",
    "df['Buyers'] = df['Buyers'].str.replace(',','')\n",
    "df['Transactions'] = df['Transactions'].str.replace(',','')\n",
    "df['Owners'] = df['Owners'].str.replace(',','')\n",
    "df=df.dropna()\n",
    "df"
   ]
  },
  {
   "cell_type": "code",
   "execution_count": 90,
   "id": "8844879a-0b0c-4d13-90b5-a0e94dcf800e",
   "metadata": {},
   "outputs": [
    {
     "name": "stderr",
     "output_type": "stream",
     "text": [
      "/tmp/ipykernel_50/2833295058.py:2: SettingWithCopyWarning: \n",
      "A value is trying to be set on a copy of a slice from a DataFrame.\n",
      "Try using .loc[row_indexer,col_indexer] = value instead\n",
      "\n",
      "See the caveats in the documentation: https://pandas.pydata.org/pandas-docs/stable/user_guide/indexing.html#returning-a-view-versus-a-copy\n",
      "  df['Sales in USD'] = df['Sales in USD'].astype('int64')\n",
      "/tmp/ipykernel_50/2833295058.py:3: SettingWithCopyWarning: \n",
      "A value is trying to be set on a copy of a slice from a DataFrame.\n",
      "Try using .loc[row_indexer,col_indexer] = value instead\n",
      "\n",
      "See the caveats in the documentation: https://pandas.pydata.org/pandas-docs/stable/user_guide/indexing.html#returning-a-view-versus-a-copy\n",
      "  df['Buyers'] = df['Buyers'].astype('int64')\n",
      "/tmp/ipykernel_50/2833295058.py:4: SettingWithCopyWarning: \n",
      "A value is trying to be set on a copy of a slice from a DataFrame.\n",
      "Try using .loc[row_indexer,col_indexer] = value instead\n",
      "\n",
      "See the caveats in the documentation: https://pandas.pydata.org/pandas-docs/stable/user_guide/indexing.html#returning-a-view-versus-a-copy\n",
      "  df['Transactions'] = df['Transactions'].astype('int64')\n",
      "/tmp/ipykernel_50/2833295058.py:5: SettingWithCopyWarning: \n",
      "A value is trying to be set on a copy of a slice from a DataFrame.\n",
      "Try using .loc[row_indexer,col_indexer] = value instead\n",
      "\n",
      "See the caveats in the documentation: https://pandas.pydata.org/pandas-docs/stable/user_guide/indexing.html#returning-a-view-versus-a-copy\n",
      "  df['Owners'] = df['Owners'].astype('int32')\n"
     ]
    }
   ],
   "source": [
    "# Converting string numericals to integers\n",
    "df['Sales in USD'] = df['Sales in USD'].astype('int64')\n",
    "df['Buyers'] = df['Buyers'].astype('int64')\n",
    "df['Transactions'] = df['Transactions'].astype('int64')\n",
    "df['Owners'] = df['Owners'].astype('int32')"
   ]
  },
  {
   "cell_type": "code",
   "execution_count": 91,
   "id": "2ec2f8a4-d9d0-4c1e-a2cb-59eee4cde977",
   "metadata": {},
   "outputs": [
    {
     "data": {
      "text/plain": [
       "Collections     object\n",
       "Sales in USD     int64\n",
       "Buyers           int64\n",
       "Transactions     int64\n",
       "Owners           int32\n",
       "dtype: object"
      ]
     },
     "execution_count": 91,
     "metadata": {},
     "output_type": "execute_result"
    }
   ],
   "source": [
    "df.dtypes"
   ]
  },
  {
   "cell_type": "code",
   "execution_count": 95,
   "id": "e1992445-5cd6-43fc-883d-d94e09391b54",
   "metadata": {},
   "outputs": [
    {
     "data": {
      "text/html": [
       "<div>\n",
       "<style scoped>\n",
       "    .dataframe tbody tr th:only-of-type {\n",
       "        vertical-align: middle;\n",
       "    }\n",
       "\n",
       "    .dataframe tbody tr th {\n",
       "        vertical-align: top;\n",
       "    }\n",
       "\n",
       "    .dataframe thead th {\n",
       "        text-align: right;\n",
       "    }\n",
       "</style>\n",
       "<table border=\"1\" class=\"dataframe\">\n",
       "  <thead>\n",
       "    <tr style=\"text-align: right;\">\n",
       "      <th></th>\n",
       "      <th>Sales in USD</th>\n",
       "      <th>Buyers</th>\n",
       "      <th>Transactions</th>\n",
       "      <th>Owners</th>\n",
       "    </tr>\n",
       "  </thead>\n",
       "  <tbody>\n",
       "    <tr>\n",
       "      <th>count</th>\n",
       "      <td>2.440000e+02</td>\n",
       "      <td>2.440000e+02</td>\n",
       "      <td>2.440000e+02</td>\n",
       "      <td>2.440000e+02</td>\n",
       "    </tr>\n",
       "    <tr>\n",
       "      <th>mean</th>\n",
       "      <td>5.967748e+07</td>\n",
       "      <td>1.259175e+04</td>\n",
       "      <td>1.379179e+05</td>\n",
       "      <td>2.884790e+04</td>\n",
       "    </tr>\n",
       "    <tr>\n",
       "      <th>std</th>\n",
       "      <td>2.573985e+08</td>\n",
       "      <td>7.738002e+04</td>\n",
       "      <td>1.021682e+06</td>\n",
       "      <td>2.384134e+05</td>\n",
       "    </tr>\n",
       "    <tr>\n",
       "      <th>min</th>\n",
       "      <td>2.498805e+06</td>\n",
       "      <td>3.100000e+01</td>\n",
       "      <td>4.700000e+01</td>\n",
       "      <td>1.000000e+00</td>\n",
       "    </tr>\n",
       "    <tr>\n",
       "      <th>25%</th>\n",
       "      <td>4.627684e+06</td>\n",
       "      <td>2.346750e+03</td>\n",
       "      <td>5.928500e+03</td>\n",
       "      <td>2.533750e+03</td>\n",
       "    </tr>\n",
       "    <tr>\n",
       "      <th>50%</th>\n",
       "      <td>1.139971e+07</td>\n",
       "      <td>3.977000e+03</td>\n",
       "      <td>9.527500e+03</td>\n",
       "      <td>3.536000e+03</td>\n",
       "    </tr>\n",
       "    <tr>\n",
       "      <th>75%</th>\n",
       "      <td>3.394315e+07</td>\n",
       "      <td>5.583500e+03</td>\n",
       "      <td>1.443625e+04</td>\n",
       "      <td>4.883500e+03</td>\n",
       "    </tr>\n",
       "    <tr>\n",
       "      <th>max</th>\n",
       "      <td>3.328148e+09</td>\n",
       "      <td>1.079811e+06</td>\n",
       "      <td>1.179070e+07</td>\n",
       "      <td>2.656431e+06</td>\n",
       "    </tr>\n",
       "  </tbody>\n",
       "</table>\n",
       "</div>"
      ],
      "text/plain": [
       "       Sales in USD        Buyers  Transactions        Owners\n",
       "count  2.440000e+02  2.440000e+02  2.440000e+02  2.440000e+02\n",
       "mean   5.967748e+07  1.259175e+04  1.379179e+05  2.884790e+04\n",
       "std    2.573985e+08  7.738002e+04  1.021682e+06  2.384134e+05\n",
       "min    2.498805e+06  3.100000e+01  4.700000e+01  1.000000e+00\n",
       "25%    4.627684e+06  2.346750e+03  5.928500e+03  2.533750e+03\n",
       "50%    1.139971e+07  3.977000e+03  9.527500e+03  3.536000e+03\n",
       "75%    3.394315e+07  5.583500e+03  1.443625e+04  4.883500e+03\n",
       "max    3.328148e+09  1.079811e+06  1.179070e+07  2.656431e+06"
      ]
     },
     "execution_count": 95,
     "metadata": {},
     "output_type": "execute_result"
    }
   ],
   "source": [
    "df.describe()"
   ]
  },
  {
   "cell_type": "code",
   "execution_count": 102,
   "id": "2e2593bb-ed3c-4a99-83b4-8081de613e97",
   "metadata": {},
   "outputs": [
    {
     "data": {
      "text/plain": [
       "<AxesSubplot:xlabel='Collections'>"
      ]
     },
     "execution_count": 102,
     "metadata": {},
     "output_type": "execute_result"
    },
    {
     "data": {
      "image/png": "[encoded data removed]",
      "text/plain": [
       "<Figure size 432x288 with 1 Axes>"
      ]
     },
     "metadata": {
      "needs_background": "light"
     },
     "output_type": "display_data"
    }
   ],
   "source": [
    "# Seeing which are the 5 NFT collections with the most owners. In descending order\n",
    "df.head().sort_values(by='Owners',ascending=False).plot(kind='bar',x='Collections',y='Owners')"
   ]
  },
  {
   "cell_type": "code",
   "execution_count": 107,
   "id": "f48c7cad-5e6d-45a1-8e8f-17b60d7c6941",
   "metadata": {},
   "outputs": [
    {
     "data": {
      "text/plain": [
       "<AxesSubplot:ylabel='Collections'>"
      ]
     },
     "execution_count": 107,
     "metadata": {},
     "output_type": "execute_result"
    },
    {
     "data": {
      "image/png": "[encoded data removed]",
      "text/plain": [
       "<Figure size 432x288 with 1 Axes>"
      ]
     },
     "metadata": {
      "needs_background": "light"
     },
     "output_type": "display_data"
    }
   ],
   "source": [
    "# Plotting top 5 NFT collections with the most sales \n",
    "df.head().sort_values(by='Sales in USD',ascending=False).plot(kind='barh',x='Collections',y='Sales in USD')"
   ]
  },
  {
   "cell_type": "code",
   "execution_count": 112,
   "id": "e626c452-eb1b-4985-ac49-1927a6c50fe5",
   "metadata": {},
   "outputs": [
    {
     "data": {
      "text/plain": [
       "<AxesSubplot:>"
      ]
     },
     "execution_count": 112,
     "metadata": {},
     "output_type": "execute_result"
    },
    {
     "data": {
      "image/png": "[encoded data removed]",
      "text/plain": [
       "<Figure size 432x288 with 1 Axes>"
      ]
     },
     "metadata": {
      "needs_background": "light"
     },
     "output_type": "display_data"
    }
   ],
   "source": [
    "# Identifying how many outliers there are when looking at sales in value\n",
    "df.sort_values(by='Sales in USD',ascending=False).plot(kind='box')"
   ]
  },
  {
   "cell_type": "code",
   "execution_count": 110,
   "id": "0201f280-6be7-4bdd-8e0d-be15bde3bb68",
   "metadata": {},
   "outputs": [
    {
     "data": {
      "text/plain": [
       "<AxesSubplot:>"
      ]
     },
     "execution_count": 110,
     "metadata": {},
     "output_type": "execute_result"
    },
    {
     "data": {
      "image/png": "[encoded data removed]",
      "text/plain": [
       "<Figure size 432x288 with 1 Axes>"
      ]
     },
     "metadata": {
      "needs_background": "light"
     },
     "output_type": "display_data"
    }
   ],
   "source": [
    "df.sort_values(by='Sales in USD',ascending=False).plot(kind='box')"
   ]
  },
  {
   "cell_type": "code",
   "execution_count": null,
   "id": "ef53c684-a2aa-40b5-ab77-1496e00b94b4",
   "metadata": {},
   "outputs": [],
   "source": []
  }
 ],
 "metadata": {
  "kernelspec": {
   "display_name": "Python 3 (ipykernel)",
   "language": "python",
   "name": "python3"
  },
  "language_info": {
   "codemirror_mode": {
    "name": "ipython",
    "version": 3
   },
   "file_extension": ".py",
   "mimetype": "text/x-python",
   "name": "python",
   "nbconvert_exporter": "python",
   "pygments_lexer": "ipython3",
   "version": "3.9.6"
  }
 },
 "nbformat": 4,
 "nbformat_minor": 5
}
